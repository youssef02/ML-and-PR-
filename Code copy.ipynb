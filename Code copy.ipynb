{
 "cells": [
  {
   "cell_type": "markdown",
   "id": "374b9869-a9a2-49f7-b2f0-f5ae7edbe1a5",
   "metadata": {},
   "source": [
    "# Predicting the stress level:\n",
    "\n",
    "the Data are from Kaggle.\n",
    "\n",
    "[https://www.kaggle.com/yamqwe/depression-anxiety-stress-scales]\n",
    "\n",
    "\n"
   ]
  },
  {
   "cell_type": "code",
   "execution_count": null,
   "id": "1c2b12d2",
   "metadata": {},
   "outputs": [],
   "source": [
    "#ignore if have files in the directory\n",
    "!mkdir DASS_data_21.02.19\n",
    "\n",
    "!wget https://raw.githubusercontent.com/youssef02/ML-and-PR-/main/DASS_data_21.02.19/data.csv -O ./DASS_data_21.02.19/data.csv"
   ]
  },
  {
   "cell_type": "code",
   "execution_count": null,
   "id": "c1e752bc",
   "metadata": {},
   "outputs": [],
   "source": [
    "import pandas as pd\n",
    "import numpy as np\n",
    "\n",
    "#loading data\n",
    "pd.options.display.max_columns = 172\n",
    "df = pd.read_csv('./DASS_data_21.02.19/data.csv', sep=r'\\t', engine='python')\n",
    "df.head()"
   ]
  },
  {
   "cell_type": "code",
   "execution_count": null,
   "id": "db40f067",
   "metadata": {},
   "outputs": [],
   "source": [
    "# ne pas oublier de changer\n",
    "# we don't need I because the order does not matter\n",
    "for i in df:\n",
    "    if i.endswith('I'):\n",
    "        df.drop(i, axis=1, inplace=True)\n",
    "\n",
    "df.head()\n",
    "        "
   ]
  },
  {
   "cell_type": "code",
   "execution_count": null,
   "id": "5a416037",
   "metadata": {},
   "outputs": [],
   "source": [
    "df.drop(['introelapse'] , axis=1, inplace=True)\n",
    "df.drop(['testelapse'] , axis=1, inplace=True)\n",
    "df.drop(['surveyelapse'] , axis=1, inplace=True)\n",
    "df.drop(['gender'] , axis=1, inplace=True)\n",
    "df.drop(['voted'] , axis=1, inplace=True)\n",
    "df.drop(['orientation'] , axis=1, inplace=True)\n",
    "df.drop(['race'] , axis=1, inplace=True)\n",
    "df.drop(['hand'] , axis=1, inplace=True)\n",
    "df.drop(['uniquenetworklocation'] , axis=1, inplace=True)\n",
    "\n",
    "\n",
    "\n",
    "\n",
    "\n",
    "\n",
    "#not needed"
   ]
  },
  {
   "cell_type": "code",
   "execution_count": null,
   "id": "73197e9a",
   "metadata": {},
   "outputs": [],
   "source": [
    "\n",
    "\n",
    "df.drop(['source'] , axis=1, inplace=True)\n",
    "for i in df:\n",
    "    if i.startswith('VCL'):\n",
    "        df.drop(i, axis=1, inplace=True)\n"
   ]
  },
  {
   "cell_type": "code",
   "execution_count": null,
   "id": "6cabb12e",
   "metadata": {},
   "outputs": [],
   "source": [
    "df['age'].sort_values(ascending=False).head(n=10)\n",
    "\n",
    "\n",
    "StressQ = [1, 6, 8, 11, 12, 14, 18, 22, 27, 29, 32, 33, 35, 39]\n",
    "for i in range(1,43):\n",
    "    a = [\"Q\"+str(i)+\"E\"]\n",
    "    b = [\"Q\"+str(i)+\"A\"]\n",
    "    if i not in StressQ:\n",
    "        df.drop(a, axis=1, inplace=True)\n",
    "        df.drop(b, axis=1, inplace=True)\n",
    "print  (\"deleted not related questions to stress\")"
   ]
  },
  {
   "cell_type": "code",
   "execution_count": null,
   "id": "125c0d22",
   "metadata": {},
   "outputs": [],
   "source": [
    "\n",
    "\n",
    "columns_drop_list = []\n",
    "df.dtypes\n",
    "\n",
    "#dara cleaning\n",
    "#df.drop('major', axis=1, inplace=True)\n",
    "#find strings in columns\n",
    "for i in df.columns:\n",
    "    if df[i].dtype == 'object':\n",
    "        columns_drop_list.append(i)\n"
   ]
  },
  {
   "cell_type": "code",
   "execution_count": null,
   "id": "52e0a45c",
   "metadata": {},
   "outputs": [],
   "source": [
    "for i in columns_drop_list:\n",
    "    df.drop(i, axis=1, inplace=True)\n",
    "\n",
    "#get 'Q1A' column rows\n",
    "\n"
   ]
  },
  {
   "cell_type": "code",
   "execution_count": null,
   "id": "b24ace2d",
   "metadata": {},
   "outputs": [],
   "source": [
    "#implelement the crossvalidation using skilearn\n",
    "from sklearn.model_selection import train_test_split\n",
    "X_train, X_test, y_train, y_test = train_test_split(df.iloc[:,:-1], df.iloc[:,-1], test_size=0.2, random_state=0)\n",
    "\n",
    "print(X_train.shape)\n",
    "print(X_test.shape)\n",
    "print(y_train.shape)\n",
    "print(y_test.shape)"
   ]
  },
  {
   "cell_type": "code",
   "execution_count": null,
   "id": "e14b0c24",
   "metadata": {},
   "outputs": [],
   "source": [
    "#plotting the data\n",
    "import matplotlib.pyplot as plt\n",
    "import seaborn as sns\n",
    "\n",
    "#data visualization\n",
    "sns.heatmap(df_QA.corr(), cmap='BuPu')"
   ]
  },
  {
   "cell_type": "code",
   "execution_count": null,
   "id": "48f6196e",
   "metadata": {},
   "outputs": [],
   "source": [
    "#get list of columns that start with Q and end with A\n",
    "columns_QA = []\n",
    "for i in df.columns:\n",
    "    if i.startswith('Q') and i.endswith('A'):\n",
    "        columns_QA.append(i)\n",
    "\n",
    "        \n",
    "\n",
    "\n",
    "\n",
    "df[\"sum\"] = df[columns_QA].sum(axis=1)\n",
    "columns_QA.append(\"sum\")\n",
    "print(columns_QA)\n",
    "df.head()\n",
    "\n"
   ]
  },
  {
   "cell_type": "code",
   "execution_count": null,
   "id": "fc56c21d",
   "metadata": {},
   "outputs": [],
   "source": [
    "#get 3 max sum\n",
    "df.sort_values(by=['sum'], ascending=False).head(n=3)"
   ]
  },
  {
   "cell_type": "code",
   "execution_count": null,
   "id": "6fa3a717",
   "metadata": {},
   "outputs": [],
   "source": [
    "\n",
    "df_QA = df[columns_QA]\n",
    "\n",
    "df_QA.head()"
   ]
  },
  {
   "cell_type": "code",
   "execution_count": null,
   "id": "18504f13",
   "metadata": {},
   "outputs": [],
   "source": [
    "#from https://www.psytoolkit.org/survey-library/depression-anxiety-stress-dass.html\n",
    "#if sum is less than 14 then it is 0\n",
    "#if sum is between 15 and 18 then it is 1\n",
    "#if sum is between 19 and 25 then it is 2\n",
    "#if sum is between 26 and 33 then it is 3\n",
    "#if it more than 33 then it is 4\n",
    "for i in range(len(df_QA)):\n",
    "    if df_QA.iloc[i, -1] < 14:\n",
    "        df_QA.iloc[i, -1] = 0\n",
    "    elif df_QA.iloc[i, -1] < 19:\n",
    "        df_QA.iloc[i, -1] = 1\n",
    "    elif df_QA.iloc[i, -1] < 26:\n",
    "        df_QA.iloc[i, -1] = 2\n",
    "    elif df_QA.iloc[i, -1] < 33:\n",
    "        df_QA.iloc[i, -1] = 3\n",
    "    else:\n",
    "        df_QA.iloc[i, -1] = 4\n",
    "\n",
    "df_QA.head()\n",
    "\n",
    "\n",
    "\n",
    "\n"
   ]
  },
  {
   "cell_type": "code",
   "execution_count": null,
   "id": "7b8f5c35",
   "metadata": {},
   "outputs": [],
   "source": [
    "#plotthe count of each value of sum\n",
    "df_QA[\"sum\"].value_counts()\n",
    "plt.plot(df_QA[\"sum\"].value_counts())\n",
    "\n",
    "\n",
    "plt.pie(df_QA[\"sum\"].value_counts(), labels=[\"1\", \"2\", \"3\", \"4\"], autopct='%1.1f%%')\n",
    "plt.show()\n"
   ]
  },
  {
   "cell_type": "code",
   "execution_count": null,
   "id": "1245ce2b",
   "metadata": {},
   "outputs": [],
   "source": [
    "# chnging the "
   ]
  },
  {
   "cell_type": "code",
   "execution_count": null,
   "id": "2523657b",
   "metadata": {},
   "outputs": [],
   "source": [
    "X_train, X_test, y_train, y_test = train_test_split(df_QA.iloc[:,:-1], df_QA.iloc[:,-1], test_size=0.2, random_state=0)\n",
    "#show head of all the train and test data\n"
   ]
  },
  {
   "cell_type": "code",
   "execution_count": null,
   "id": "3603f179",
   "metadata": {},
   "outputs": [],
   "source": [
    "#new dataframe where has only the columns that start with Q and end with A\n",
    "\n",
    "\n",
    "#train test split\n",
    "#shuffle the data\n",
    "df_QA = df_QA.sample(frac=1).reset_index(drop=True)\n",
    "#train test split\n",
    "X_train, X_test, y_train, y_test = train_test_split(df_QA.iloc[:,:-1], df_QA.iloc[:,-1], test_size=0.2, random_state=0)\n",
    "\n",
    "#knn on df_QA\n",
    "from sklearn.neighbors import KNeighborsClassifier\n",
    "from sklearn.metrics import accuracy_score\n",
    "acclist_QA = []\n",
    "for i in range(2,16):\n",
    "    knn = KNeighborsClassifier(n_neighbors=i)\n",
    "    knn.fit(X_train, y_train)\n",
    "    y_pred = knn.predict(X_test)\n",
    "    acclist_QA.append(accuracy_score(y_test, y_pred))\n",
    "\n",
    "#plotting the accuracy\n",
    "plt.plot(range(2,16), acclist_QA)\n",
    "plt.xlabel('k')\n",
    "plt.ylabel('accuracy')\n",
    "plt.show()\n",
    "\n",
    "\n",
    "\n",
    "\n",
    "\n",
    "\n"
   ]
  },
  {
   "cell_type": "code",
   "execution_count": null,
   "id": "c1f90705",
   "metadata": {},
   "outputs": [],
   "source": [
    "\n",
    "for i in range(len(df)):\n",
    "    if df.iloc[i, -1] < 14:\n",
    "        df.iloc[i, -1] = 0\n",
    "    elif df.iloc[i, -1] < 19:\n",
    "        df.iloc[i, -1] = 1\n",
    "    elif df.iloc[i, -1] < 26:\n",
    "        df.iloc[i, -1] = 2\n",
    "    elif df.iloc[i, -1] < 33:\n",
    "        df.iloc[i, -1] = 3\n",
    "    else:\n",
    "        df.iloc[i, -1] = 4\n",
    "df.head()\n",
    "\n",
    "\n"
   ]
  },
  {
   "cell_type": "code",
   "execution_count": null,
   "id": "4eb66b9c",
   "metadata": {},
   "outputs": [],
   "source": [
    "#shuffle the data\n",
    "df = df.sample(frac=1).reset_index(drop=True)\n",
    "#train test split\n",
    "X_train, X_test, y_train, y_test = train_test_split(df.iloc[:,:-1], df.iloc[:,-1], test_size=0.2, random_state=0)\n",
    "#random forest on df\n",
    "from sklearn.ensemble import RandomForestClassifier\n",
    "from sklearn.metrics import accuracy_score\n",
    "acclist_df = []\n",
    "for i in range(2,16):\n",
    "    rf = RandomForestClassifier(n_estimators=i)\n",
    "    rf.fit(X_train, y_train)\n",
    "    y_pred = rf.predict(X_test)\n",
    "    acclist_df.append(accuracy_score(y_test, y_pred))\n",
    "\n",
    "\n",
    "#plotting the accuracy\n",
    "plt.plot(range(2,16), acclist_df)\n",
    "plt.xlabel('n_estimators')\n",
    "plt.ylabel('accuracy')\n",
    "plt.show()"
   ]
  },
  {
   "cell_type": "code",
   "execution_count": null,
   "id": "79e1a7bb",
   "metadata": {},
   "outputs": [],
   "source": [
    "#implement random forest on df_QA\n",
    "column_TIPI = []\n",
    "for i in df.columns:\n",
    "    if i.startswith('TIPI'):\n",
    "        column_TIPI.append(i)\n",
    "\n",
    "print(column_TIPI)\n",
    "df_TIPI = df[column_TIPI]\n",
    "\n",
    "#select colomns that start with TIPI\n",
    "from sklearn.ensemble import RandomForestClassifier\n",
    "from sklearn.metrics import accuracy_score\n",
    "#train test split\n",
    "X_train, X_test, y_train, y_test = train_test_split(df_QA.iloc[:,:-1], df_QA.iloc[:,-1], test_size=0.2, random_state=0)\n",
    "\n",
    "acclist_QA = []\n",
    "for i in range(2,50):\n",
    "    rf = RandomForestClassifier(n_estimators=i)\n",
    "    rf.fit(X_train, y_train)\n",
    "    y_pred = rf.predict(X_test)\n",
    "    acclist_QA.append(accuracy_score(y_test, y_pred))\n",
    "#plotting the accuracy\n",
    "plt.plot(range(2,50), acclist_QA)\n",
    "\n",
    "\n",
    "\n",
    "\n"
   ]
  },
  {
   "cell_type": "code",
   "execution_count": null,
   "id": "1514b1a1",
   "metadata": {},
   "outputs": [],
   "source": [
    "\n",
    "#decision tree regressor\n",
    "from sklearn.tree import DecisionTreeClassifier\n",
    "from sklearn.metrics import accuracy_score\n",
    "#train test split\n",
    "X_train, X_test, y_train, y_test = train_test_split(df_QA.iloc[:,:-1], df_QA.iloc[:,-1], test_size=0.2, random_state=0)\n",
    "dtc = DecisionTreeClassifier()\n",
    "dtc.fit(X_train, y_train)\n",
    "y_pred = dtc.predict(X_test)\n",
    "print(accuracy_score(y_test, y_pred))\n",
    "imp = dtc.feature_importances_\n",
    "plt.plot(imp)\n",
    "#plot with column name\n",
    "#plot x axis with column name\n",
    "plt.xlabel('column name')\n",
    "plt.ylabel('importance')\n",
    "plt.xticks(range(len(imp)), df_QA.columns[:-1])\n",
    "\n",
    "plt.show()\n",
    "\n",
    "#print top 3 features\n",
    "list_imp = []\n",
    "for i in range(len(imp)):\n",
    "    if imp[i] > 0.05:\n",
    "        print(df_QA.columns[i], imp[i])\n",
    "        list_imp.append([df_QA.columns[i], imp[i]])\n",
    "\n",
    "#sort list_imp\n",
    "list_imp.sort(key=lambda x: x[1], reverse=True)\n",
    "#print top 3\n",
    "for i in range(3):\n",
    "    print(list_imp[i])\n",
    "\n",
    "\n"
   ]
  },
  {
   "cell_type": "code",
   "execution_count": null,
   "id": "d3565e27",
   "metadata": {},
   "outputs": [],
   "source": [
    "\n"
   ]
  },
  {
   "cell_type": "code",
   "execution_count": null,
   "id": "10839b91",
   "metadata": {},
   "outputs": [],
   "source": [
    "#plot age vs. Q1A\n",
    "import seaborn as sns\n",
    "sns.lmplot(x='age', y='sum', data=df, fit_reg=False)\n"
   ]
  },
  {
   "cell_type": "code",
   "execution_count": null,
   "id": "e4e1ac2e",
   "metadata": {},
   "outputs": [],
   "source": [
    "\n",
    "#random forest on df with k=4\n",
    "from sklearn.ensemble import RandomForestClassifier\n",
    "from sklearn.metrics import accuracy_score\n",
    "rf = RandomForestClassifier(n_estimators=4)\n",
    "rf.fit(X_train, y_train)\n",
    "print(accuracy_score(y_test, y_pred))\n",
    "\n",
    "#generate confusion matrix\n",
    "from sklearn.metrics import confusion_matrix\n",
    "y_pred = rf.predict(X_test)\n",
    "\n",
    "cm = confusion_matrix(y_test, y_pred)\n",
    "#heatmap the cm\n",
    "sns.heatmap(cm, annot=True)\n",
    "\n",
    "\n",
    "\n",
    "\n",
    "\n",
    "\n",
    "\n",
    "\n",
    "\n",
    "\n",
    "\n"
   ]
  },
  {
   "cell_type": "code",
   "execution_count": null,
   "id": "0ed247f3",
   "metadata": {},
   "outputs": [],
   "source": [
    "df.shape"
   ]
  }
 ],
 "metadata": {
  "kernelspec": {
   "display_name": "Python 3",
   "language": "python",
   "name": "python3"
  },
  "language_info": {
   "codemirror_mode": {
    "name": "ipython",
    "version": 3
   },
   "file_extension": ".py",
   "mimetype": "text/x-python",
   "name": "python",
   "nbconvert_exporter": "python",
   "pygments_lexer": "ipython3",
   "version": "3.8.12"
  }
 },
 "nbformat": 4,
 "nbformat_minor": 5
}
